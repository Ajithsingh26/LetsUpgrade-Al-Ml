{
 "cells": [
  {
   "cell_type": "markdown",
   "metadata": {},
   "source": [
    "# Steps to Create Github profile and upload Githubs Assignment link:\n",
    " \n",
    " \n",
    " ## Creating Github profile:\n",
    " \n",
    "       1, To make an account on GitHub, head on over to their webpage at https://github.com/. \n",
    "       2. Â They have a really simple process for creating an account, so simply pick a username, enter your email        address, and choose a (strong)password and you're good to go!\n",
    " \n",
    " ## Upload Githubs Assignment link:\n",
    "        1. Click \"File\" option in notebook\n",
    "        2. Go to \"Download As\" -> \"Notebook(.ipynb)\"3. Upload the downloaded .ipynb file to github and share the link in google form.\n",
    "        3. The assignments for the week should be submitted by weekend i.e. Sunday 11:59 PM IST. \n",
    "        4, You can use Jupyter Notebook or python files or even Google Colab to Solve your Assignments\n"
   ]
  },
  {
   "cell_type": "code",
   "execution_count": null,
   "metadata": {},
   "outputs": [],
   "source": []
  }
 ],
 "metadata": {
  "kernelspec": {
   "display_name": "Python 3",
   "language": "python",
   "name": "python3"
  },
  "language_info": {
   "codemirror_mode": {
    "name": "ipython",
    "version": 3
   },
   "file_extension": ".py",
   "mimetype": "text/x-python",
   "name": "python",
   "nbconvert_exporter": "python",
   "pygments_lexer": "ipython3",
   "version": "3.7.6"
  }
 },
 "nbformat": 4,
 "nbformat_minor": 4
}
