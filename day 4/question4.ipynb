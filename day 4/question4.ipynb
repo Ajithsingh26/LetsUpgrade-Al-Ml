{
 "cells": [
  {
   "cell_type": "code",
   "execution_count": 3,
   "metadata": {},
   "outputs": [
    {
     "name": "stdout",
     "output_type": "stream",
     "text": [
      "the result is: 2\n",
      "the result is: 10\n",
      "the result is: 14\n",
      "the result is: 18\n",
      "the result is: 38\n"
     ]
    }
   ],
   "source": [
    "a = [2,3,6,7,8,10,13,15,17,20]\n",
    "\n",
    "for i in a:\n",
    "    if i % 2==0:\n",
    "        print(\"the result is:\",(i*2)-2)"
   ]
  },
  {
   "cell_type": "code",
   "execution_count": null,
   "metadata": {},
   "outputs": [],
   "source": []
  }
 ],
 "metadata": {
  "kernelspec": {
   "display_name": "Python 3",
   "language": "python",
   "name": "python3"
  },
  "language_info": {
   "codemirror_mode": {
    "name": "ipython",
    "version": 3
   },
   "file_extension": ".py",
   "mimetype": "text/x-python",
   "name": "python",
   "nbconvert_exporter": "python",
   "pygments_lexer": "ipython3",
   "version": "3.7.6"
  }
 },
 "nbformat": 4,
 "nbformat_minor": 4
}
