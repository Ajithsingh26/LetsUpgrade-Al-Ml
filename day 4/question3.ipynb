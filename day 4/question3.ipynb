{
 "cells": [
  {
   "cell_type": "code",
   "execution_count": 3,
   "metadata": {},
   "outputs": [
    {
     "name": "stdout",
     "output_type": "stream",
     "text": [
      ">enter the first no:100\n",
      ">enter the second no:50\n",
      "the multiplication of a and b is: 5000\n"
     ]
    }
   ],
   "source": [
    "a = int(input(\">enter the first no:\"))\n",
    "b = int(input(\">enter the second no:\"))\n",
    "\n",
    "sub = a - b\n",
    "mul = a * b\n",
    "if sub > 25:\n",
    "    print(\"the multiplication of a and b is:\", mul)\n",
    "else:\n",
    "    print(\"the substraction of a and b are:\" ,sub)\n",
    "\n",
    "    "
   ]
  },
  {
   "cell_type": "code",
   "execution_count": null,
   "metadata": {},
   "outputs": [],
   "source": []
  }
 ],
 "metadata": {
  "kernelspec": {
   "display_name": "Python 3",
   "language": "python",
   "name": "python3"
  },
  "language_info": {
   "codemirror_mode": {
    "name": "ipython",
    "version": 3
   },
   "file_extension": ".py",
   "mimetype": "text/x-python",
   "name": "python",
   "nbconvert_exporter": "python",
   "pygments_lexer": "ipython3",
   "version": "3.7.6"
  }
 },
 "nbformat": 4,
 "nbformat_minor": 4
}
