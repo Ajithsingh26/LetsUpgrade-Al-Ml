{
 "cells": [
  {
   "cell_type": "markdown",
   "metadata": {},
   "source": [
    "# Assignment Day 5"
   ]
  },
  {
   "cell_type": "markdown",
   "metadata": {},
   "source": [
    "## 1. The first 20 non-even prime natural numbers."
   ]
  },
  {
   "cell_type": "code",
   "execution_count": 9,
   "metadata": {},
   "outputs": [
    {
     "name": "stdout",
     "output_type": "stream",
     "text": [
      "\n",
      "3\n",
      "5\n",
      "7\n",
      "11\n",
      "13\n",
      "17\n",
      "19\n"
     ]
    }
   ],
   "source": [
    "print(\"the first 20 non-even prime natural numbers\")\n",
    "for val in range(2, 20 + 1): \n",
    "    if val >1 and val % 2 != 0: \n",
    "        for n in range(2, val//2 + 2): \n",
    "            if (val % n) == 0: \n",
    "                break\n",
    "            else: \n",
    "                if n == val//2 + 1: \n",
    "                    print(val) "
   ]
  },
  {
   "cell_type": "markdown",
   "metadata": {},
   "source": [
    "## 2. program to implement 15 functions of string."
   ]
  },
  {
   "cell_type": "code",
   "execution_count": 30,
   "metadata": {},
   "outputs": [
    {
     "name": "stdout",
     "output_type": "stream",
     "text": [
      "Ajith Singh is a Astrophile\n",
      "aJITH sINGH \n",
      "ajith singh \n",
      "AJITH SINGH \n",
      "False\n",
      "Ajith Singh \n",
      "12\n",
      "2\n",
      "7\n",
      "<built-in method encode of str object at 0x7f5bdc54cfb0>\n",
      "['Ajith', 'Singh']\n",
      "Ajith Singh\n",
      "True\n",
      "False\n",
      "False\n"
     ]
    }
   ],
   "source": [
    "s1 = \"Ajith Singh \"\n",
    "s2 = \"is a Astrophile\"\n",
    "print(s1+s2)\n",
    "print(s1.swapcase())\n",
    "print(s1.lower())\n",
    "print(s1.upper())\n",
    "print(s1.isalpha())\n",
    "print(s1.replace('s','z'))\n",
    "print(len(s1))\n",
    "print(s1.find('i'))\n",
    "print(s1.find('i',3,8))\n",
    "print(s1.encode)\n",
    "print(s1.rsplit())\n",
    "print(s1.rstrip())\n",
    "print(s1.istitle())\n",
    "print(s1.isnumeric())\n",
    "print(s1.isdigit())\n"
   ]
  },
  {
   "cell_type": "markdown",
   "metadata": {},
   "source": [
    "## 3. Python program to check if the given string is a Palindrome or Anagram or        None of them.\n"
   ]
  },
  {
   "cell_type": "code",
   "execution_count": 9,
   "metadata": {
    "collapsed": true
   },
   "outputs": [
    {
     "name": "stdout",
     "output_type": "stream",
     "text": [
      "choose the option for checking the string to be...\n",
      "     1, palindrome.\n",
      "     2, anagram.\n",
      "     > 2\n",
      "enter the first stringajith\n",
      "enter the second stringjithq\n",
      "ajith and jithq is not a anagram\n"
     ]
    }
   ],
   "source": [
    "option = int(input('''choose the option for checking the string to be...\n",
    "     1, palindrome.\n",
    "     2, anagram.\n",
    "     > '''))\n",
    "\n",
    "if option == 1:\n",
    "    p1 = str(input(\"enter the string:\"))        \n",
    "    p2 = p1[::-1] \n",
    "    if p1 == p2:\n",
    "          print(f\"{p1} is a palindrome\")\n",
    "    else:\n",
    "          print(f\"{p1} is a not a palindrome\")\n",
    "\n",
    "if option == 2:\n",
    "     s1 = str(input(\"enter the first string\"))\n",
    "     s2 = str(input(\"enter the second string\"))        \n",
    "     if sorted(s1) == sorted(s2):\n",
    "        print(f\"{s1} and {s2} is anagram\")\n",
    "     else:\n",
    "        print(f\"{s1} and {s2} is not a anagram\")\n",
    "             \n",
    "\n",
    "             \n",
    "             \n",
    "    "
   ]
  },
  {
   "cell_type": "markdown",
   "metadata": {},
   "source": [
    "##  4, Write a Python's user defined function that removes all the additional characters from the string and converts it finally to lower case using built-in lower()."
   ]
  },
  {
   "cell_type": "code",
   "execution_count": 58,
   "metadata": {},
   "outputs": [
    {
     "name": "stdout",
     "output_type": "stream",
     "text": [
      "enter the string:bhduaskdhkabkq119u9787012%%*&%^$*&\n",
      "bhduaskdhkabkqu\n"
     ]
    }
   ],
   "source": [
    "s = input(\"enter the string:\")\n",
    "\n",
    "s1 = \"\".join(re.split(\"[^a-zA-Z]*\", s)) \n",
    "s2 = s1.lower()\n",
    "print(str(s2))\n",
    "\n",
    "    \n",
    "    \n",
    "    \n",
    "    \n",
    "    \n",
    "    "
   ]
  },
  {
   "cell_type": "code",
   "execution_count": null,
   "metadata": {},
   "outputs": [],
   "source": []
  }
 ],
 "metadata": {
  "kernelspec": {
   "display_name": "Python 3",
   "language": "python",
   "name": "python3"
  },
  "language_info": {
   "codemirror_mode": {
    "name": "ipython",
    "version": 3
   },
   "file_extension": ".py",
   "mimetype": "text/x-python",
   "name": "python",
   "nbconvert_exporter": "python",
   "pygments_lexer": "ipython3",
   "version": "3.7.6"
  }
 },
 "nbformat": 4,
 "nbformat_minor": 4
}
