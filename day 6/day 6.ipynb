{
 "cells": [
  {
   "cell_type": "code",
   "execution_count": null,
   "metadata": {},
   "outputs": [],
   "source": [
    "                               # "
   ]
  },
  {
   "cell_type": "markdown",
   "metadata": {},
   "source": [
    "## 1. Assuming that we have some email addresses in the \"username@companyname.com\" format, please write program to print the company name of a given email address. Both user names and company names are composed of letters only."
   ]
  },
  {
   "cell_type": "code",
   "execution_count": 7,
   "metadata": {},
   "outputs": [
    {
     "name": "stdout",
     "output_type": "stream",
     "text": [
      ">Enter the mail address:ajith@gmail.com\n",
      "The company name is:  gmail\n"
     ]
    }
   ],
   "source": [
    "gmail = str(input(\">Enter the mail address:\"))\n",
    "c = 0 #count to find the character '@''\n",
    "\n",
    "for i in gmail: \n",
    "    if i.isalpha(): \n",
    "        c = c+1\n",
    "    else:\n",
    "        break\n",
    "  \n",
    "a = gmail[c+1:]\n",
    "company_name = \"\"\n",
    "for i in a:\n",
    "    if i.isalpha():\n",
    "       company_name = \"\".join([company_name, i])\n",
    "    else:\n",
    "        break\n",
    "print(\"The company name is: \",company_name)"
   ]
  },
  {
   "cell_type": "markdown",
   "metadata": {},
   "source": [
    "## 2. Write a program that accepts a comma-separated sequence of words as input and prints the words in a comma separated sequence after sorting them alphabetically."
   ]
  },
  {
   "cell_type": "code",
   "execution_count": 17,
   "metadata": {
    "collapsed": true
   },
   "outputs": [
    {
     "name": "stdout",
     "output_type": "stream",
     "text": [
      "ml\n",
      "ml"
     ]
    }
   ],
   "source": [
    "word = input().split(',')\n",
    "words = list(word)\n",
    "num = len(words)\n",
    "\n",
    "sorted_words = sorted(words)\n",
    "\n",
    "\n",
    "for i in range (num):\n",
    "    if i == num-1:\n",
    "        print(sorted_words[i],end=\"\")\n",
    "    else:\n",
    "        print(sorted_words[i],end=\",\")\n",
    "\n",
    "\n"
   ]
  },
  {
   "cell_type": "markdown",
   "metadata": {},
   "source": [
    "## 3. Create your own Jupyter Notebook for Sets."
   ]
  },
  {
   "cell_type": "code",
   "execution_count": 31,
   "metadata": {
    "collapsed": true
   },
   "outputs": [
    {
     "name": "stdout",
     "output_type": "stream",
     "text": [
      "{'potato', 'apple', 'tomato', 'grapes', 'carrot', 'onion', 'peas', 'banana', 'orange'}\n",
      "{'tomato'}\n",
      "{'potato', 'apple', 'tomato', 'grapes', 'carrot', 'onion', 'peas', 'banana', 'orange'}\n",
      "None\n",
      "None\n"
     ]
    },
    {
     "ename": "NameError",
     "evalue": "name 'veg' is not defined",
     "output_type": "error",
     "traceback": [
      "\u001b[0;31m---------------------------------------------------------------------------\u001b[0m",
      "\u001b[0;31mNameError\u001b[0m                                 Traceback (most recent call last)",
      "\u001b[0;32m<ipython-input-31-b600ff7aef77>\u001b[0m in \u001b[0;36m<module>\u001b[0;34m\u001b[0m\n\u001b[1;32m     22\u001b[0m \u001b[0;31m#delete\u001b[0m\u001b[0;34m\u001b[0m\u001b[0;34m\u001b[0m\u001b[0;34m\u001b[0m\u001b[0m\n\u001b[1;32m     23\u001b[0m \u001b[0;32mdel\u001b[0m \u001b[0mveg\u001b[0m\u001b[0;34m\u001b[0m\u001b[0;34m\u001b[0m\u001b[0m\n\u001b[0;32m---> 24\u001b[0;31m \u001b[0mprint\u001b[0m\u001b[0;34m(\u001b[0m\u001b[0mveg\u001b[0m\u001b[0;34m)\u001b[0m\u001b[0;34m\u001b[0m\u001b[0;34m\u001b[0m\u001b[0m\n\u001b[0m",
      "\u001b[0;31mNameError\u001b[0m: name 'veg' is not defined"
     ]
    }
   ],
   "source": [
    "fruits = {'apple','orange','grapes','banana','tomato'}\n",
    "veg = {'carrot',\"peas\",'onion','potato','tomato'}\n",
    "\n",
    "#joining two sets\n",
    "things = fruits.union(veg) \n",
    "print(things)\n",
    "\n",
    "#common element in two sets\n",
    "common = fruits.intersection(veg) \n",
    "print(common)\n",
    "\n",
    "#updating\n",
    "update = fruits.update(veg)\n",
    "print(fruits)\n",
    "\n",
    "#clear\n",
    "print(fruits.clear())\n",
    "\n",
    "#discard\n",
    "print(veg.discard(\"onion\"))\n",
    "\n",
    "#delete\n",
    "del veg\n",
    "print(veg)"
   ]
  },
  {
   "cell_type": "markdown",
   "metadata": {},
   "source": [
    "## 4, Given a list of n-1 numbers ranging from 1 to n, your task is to find the missing number. There are no duplicates."
   ]
  },
  {
   "cell_type": "code",
   "execution_count": 9,
   "metadata": {},
   "outputs": [
    {
     "name": "stdout",
     "output_type": "stream",
     "text": [
      "7.0\n"
     ]
    }
   ],
   "source": [
    "def missing_no(num):\n",
    "    n = len(num)\n",
    "    total = ((n+1)*(n+2))/2\n",
    "    sum_ = (sum(num))\n",
    "    return total - sum_\n",
    "    \n",
    "num = [1,2,3,6,4,5,8,9]\n",
    "print(missing_no(num))"
   ]
  },
  {
   "cell_type": "markdown",
   "metadata": {},
   "source": [
    "## 5, With a given list L, write a program to print this list L after removing all duplicate values with original order reserved."
   ]
  },
  {
   "cell_type": "code",
   "execution_count": 23,
   "metadata": {},
   "outputs": [
    {
     "name": "stdout",
     "output_type": "stream",
     "text": [
      " 12  24  35  88  120  155 \n"
     ]
    }
   ],
   "source": [
    "l = [12,24,35,24,88,120,155,88,120,155]\n",
    "l1 = sorted(list(set(l)))\n",
    "l1 = str(l1).replace( ',' ,' ')\n",
    "l1 = str(l1).replace( '[' ,' ')\n",
    "l1 = str(l1).replace( ']' ,' ')\n",
    "\n",
    "print(l1)\n"
   ]
  },
  {
   "cell_type": "code",
   "execution_count": null,
   "metadata": {},
   "outputs": [],
   "source": []
  }
 ],
 "metadata": {
  "kernelspec": {
   "display_name": "Python 3",
   "language": "python",
   "name": "python3"
  },
  "language_info": {
   "codemirror_mode": {
    "name": "ipython",
    "version": 3
   },
   "file_extension": ".py",
   "mimetype": "text/x-python",
   "name": "python",
   "nbconvert_exporter": "python",
   "pygments_lexer": "ipython3",
   "version": "3.7.6"
  }
 },
 "nbformat": 4,
 "nbformat_minor": 4
}
